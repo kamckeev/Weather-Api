{
 "cells": [
  {
   "cell_type": "markdown",
   "metadata": {},
   "source": [
    "# WeatherPy\n",
    "----\n",
    "\n",
    "### Analysis\n",
    "* As expected, the weather becomes significantly warmer as one approaches the equator (0 Deg. Latitude). More interestingly, however, is the fact that the southern hemisphere tends to be warmer this time of year than the northern hemisphere. This may be due to the tilt of the earth.\n",
    "* There is no strong relationship between latitude and cloudiness. However, it is interesting to see that a strong band of cities sits at 0, 80, and 100% cloudiness.\n",
    "* There is no strong relationship between latitude and wind speed. However, in northern hemispheres there is a flurry of cities with over 20 mph of wind.\n",
    "\n",
    "---\n",
    "\n",
    "#### Note\n",
    "* Instructions have been included for each segment. You do not have to follow them exactly, but they are included to help you think through the steps."
   ]
  },
  {
   "cell_type": "code",
   "execution_count": 8,
   "metadata": {
    "scrolled": true
   },
   "outputs": [],
   "source": [
    "# Dependencies and Setup\n",
    "import matplotlib.pyplot as plt\n",
    "import pandas as pd\n",
    "import numpy as np\n",
    "import requests\n",
    "import time\n",
    "import csv\n",
    "import os\n",
    "\n",
    "# Import API key\n",
    "import api_keys\n",
    "\n",
    "# Incorporated citipy to determine city based on latitude and longitude\n",
    "import citipy\n",
    "\n",
    "# Output File (CSV)\n",
    "output_data_file = \"06_Python-APIs/cities.csv\"\n",
    "\n",
    "# Range of latitudes and longitudes\n",
    "lat_range = (-90, 90)\n",
    "lng_range = (-180, 180)"
   ]
  },
  {
   "cell_type": "markdown",
   "metadata": {},
   "source": [
    "## Generate Cities List"
   ]
  },
  {
   "cell_type": "code",
   "execution_count": 2,
   "metadata": {},
   "outputs": [
    {
     "name": "stdout",
     "output_type": "stream",
     "text": [
      "14\n"
     ]
    }
   ],
   "source": [
    "# List for holding lat_lngs and cities\n",
    "lat_lngs = []\n",
    "cities = []\n",
    "country_code=[]\n",
    "\n",
    "\n",
    "# Create a set of random lat and lng combinations\n",
    "lats = np.random.uniform(low=-90.000, high=90.000, size=15)\n",
    "lngs = np.random.uniform(low=-180.000, high=180.000, size=15)\n",
    "lat_lngs = zip(lats, lngs)\n",
    "\n",
    "\n",
    "# Identify nearest city for each lat, lng combination\n",
    "for lat_lng in lat_lngs:\n",
    "    city = citipy.nearest_city(lat_lng[0], lat_lng[1]).city_name\n",
    "    country = citipy.nearest_city(lat_lng[0], lat_lng[1]).country_code\n",
    "    # If the city is unique, then add it to a our cities list\n",
    "    if city not in cities:\n",
    "        cities.append(city)\n",
    "        country_code.append(country)\n",
    "        \n",
    "#\n",
    "       \n",
    "#print the city count to confirm sufficient count\n",
    "print(len(cities))\n",
    "#create data frame to store this information. Columns with additional info can be appended later\n",
    "weather_df=pd.DataFrame({\"City\": cities,\"Country\":country_code})\n",
    "#created a csv to view list of cities \n",
    "weather_df.to_csv(\"test_cities.csv\", index=False)"
   ]
  },
  {
   "cell_type": "markdown",
   "metadata": {},
   "source": [
    "### Perform API Calls\n",
    "* Perform a weather check on each city using a series of successive API calls.\n",
    "* Include a print log of each city as it'sbeing processed (with the city number and city name).\n"
   ]
  },
  {
   "cell_type": "code",
   "execution_count": 3,
   "metadata": {},
   "outputs": [
    {
     "name": "stdout",
     "output_type": "stream",
     "text": [
      "Retrieving record 1 of 14: Terre Haute, US.\n",
      "The weather in Terre Haute is 19.09C with scattered clouds.\n",
      "------------\n",
      "Retrieving record 2 of 14: Rikitea, PF.\n",
      "The weather in Rikitea is 24.14C with light rain.\n",
      "------------\n",
      "Retrieving record 3 of 14: Punta Arenas, CL.\n",
      "The weather in Punta Arenas is 15.78C with clear sky.\n",
      "------------\n",
      "Retrieving record 4 of 14: Hailey, US.\n",
      "The weather in Hailey is -1.57C with clear sky.\n",
      "------------\n",
      "Retrieving record 5 of 14: Sioux Lookout, CA.\n",
      "The weather in Sioux Lookout is -0.59C with light snow.\n",
      "------------\n",
      "Retrieving record 6 of 14: Lagoa, PT.\n",
      "The weather in Lagoa is 15.41C with clear sky.\n",
      "------------\n",
      "Retrieving record 7 of 14: Acapulco, MX.\n",
      "The weather in Acapulco is 29C with clear sky.\n",
      "------------\n",
      "Retrieving record 8 of 14: Trastenik, BG.\n",
      "The weather in Trastenik is 5C with broken clouds.\n",
      "------------\n",
      "Retrieving record 9 of 14: Vaini, TO.\n",
      "The weather in Vaini is 19.36C with clear sky.\n",
      "------------\n",
      "Retrieving record 10 of 14: Georgetown, SH.\n",
      "The weather in Georgetown is 29C with scattered clouds.\n",
      "------------\n",
      "Retrieving record 11 of 14: Shimoda, JP.\n",
      "The weather in Shimoda is 3.61C with clear sky.\n",
      "------------\n",
      "Retrieving record 12 of 14: Chuy, UY.\n",
      "The weather in Chuy is 22.51C with overcast clouds.\n",
      "------------\n",
      "Retrieving record 13 of 14: Kapaa, US.\n",
      "The weather in Kapaa is 24.97C with scattered clouds.\n",
      "------------\n",
      "Retrieving record 14 of 14: Yamada, JP.\n",
      "The weather in Yamada is 3.3C with few clouds.\n",
      "------------\n"
     ]
    }
   ],
   "source": [
    "import openweathermapy.core as owm\n",
    "from api_keys import api_key\n",
    "import json\n",
    "\n",
    "\n",
    "settings = {\"units\": \"metric\", \"appid\": api_key}\n",
    "weather_data = []\n",
    "#weather_df[\"Country\"]=\"\"\n",
    "weather_df[\"Latitude\"]=\"\"\n",
    "weather_df[\"Longitude\"]=\"\"\n",
    "weather_df[\"DateTime\"]=\"\"\n",
    "weather_df[\"CurrentTemp\"]=\"\"\n",
    "weather_df[\"MaxTemp\"]=\"\"\n",
    "weather_df[\"WindSpeed\"]=\"\"\n",
    "weather_df[\"Cloudiness\"]=\"\"\n",
    "weather_df[\"Humidity\"]= \"\"\n",
    "\n",
    "\n",
    "\n",
    "\n",
    "for index, row in weather_df.iterrows():\n",
    "    #want the city name from my df\n",
    "    city=row['City'].title()\n",
    "    country=row['Country'].upper()\n",
    "    time.sleep(1)\n",
    "\n",
    "    \n",
    "    #make API request and print processing message\n",
    "    print(f\"Retrieving record {index+1} of {len(cities)}: {city}, {country}.\")\n",
    "    try:\n",
    "        weather_response=owm.get_current(city,**settings)\n",
    "    \n",
    "        #print(weather_response)\n",
    "        print(f\"The weather in {city} is {weather_response['main']['temp']}C with {weather_response['weather'][0]['description']}.\")\n",
    "        \n",
    "        #weather_df.loc[index, 'Country']=weather_response['sys']['country']\n",
    "        weather_df.loc[index, 'Latitude'] = weather_response['coord']['lat']\n",
    "        weather_df.loc[index, 'Longitude'] = weather_response['coord']['lon']\n",
    "        weather_df.loc[index, 'DateTime']= weather_response['dt']\n",
    "        weather_df.loc[index, 'CurrentTemp'] = weather_response['main']['temp']\n",
    "        weather_df.loc[index, 'MaxTemp']= weather_response['main']['temp_max']\n",
    "        weather_df.loc[index, 'Humidity']=weather_response['main']['humidity']\n",
    "        weather_df.loc[index, 'WindSpeed'] = weather_response['wind']['speed']\n",
    "        weather_df.loc[index, 'Cloudiness']= weather_response['clouds']['all']\n",
    "        \n",
    "    except (KeyError, IndexError):\n",
    "        print(\"Missing field/result... skipping.\")\n",
    "    \n",
    "    except:\n",
    "        print(f'* No weather data available for this city. ({city}, {country}) *') \n",
    "        \n",
    "    print(\"------------\")\n",
    "    "
   ]
  },
  {
   "cell_type": "markdown",
   "metadata": {},
   "source": [
    "### Convert Raw Data to DataFrame\n",
    "* Export the city data into a .csv.\n",
    "* Display the DataFrame"
   ]
  },
  {
   "cell_type": "code",
   "execution_count": 4,
   "metadata": {},
   "outputs": [],
   "source": [
    "weather_df.to_csv(\"weather_data.csv\", index=False)"
   ]
  },
  {
   "cell_type": "code",
   "execution_count": 5,
   "metadata": {},
   "outputs": [
    {
     "data": {
      "text/html": [
       "<div>\n",
       "<style scoped>\n",
       "    .dataframe tbody tr th:only-of-type {\n",
       "        vertical-align: middle;\n",
       "    }\n",
       "\n",
       "    .dataframe tbody tr th {\n",
       "        vertical-align: top;\n",
       "    }\n",
       "\n",
       "    .dataframe thead th {\n",
       "        text-align: right;\n",
       "    }\n",
       "</style>\n",
       "<table border=\"1\" class=\"dataframe\">\n",
       "  <thead>\n",
       "    <tr style=\"text-align: right;\">\n",
       "      <th></th>\n",
       "      <th>City</th>\n",
       "      <th>Country</th>\n",
       "      <th>Latitude</th>\n",
       "      <th>Longitude</th>\n",
       "      <th>DateTime</th>\n",
       "      <th>CurrentTemp</th>\n",
       "      <th>MaxTemp</th>\n",
       "      <th>WindSpeed</th>\n",
       "      <th>Cloudiness</th>\n",
       "      <th>Humidity</th>\n",
       "    </tr>\n",
       "  </thead>\n",
       "  <tbody>\n",
       "    <tr>\n",
       "      <th>0</th>\n",
       "      <td>terre haute</td>\n",
       "      <td>us</td>\n",
       "      <td>39.47</td>\n",
       "      <td>-87.41</td>\n",
       "      <td>1552599906</td>\n",
       "      <td>19.09</td>\n",
       "      <td>21.67</td>\n",
       "      <td>10.8</td>\n",
       "      <td>40</td>\n",
       "      <td>55</td>\n",
       "    </tr>\n",
       "    <tr>\n",
       "      <th>1</th>\n",
       "      <td>rikitea</td>\n",
       "      <td>pf</td>\n",
       "      <td>-23.12</td>\n",
       "      <td>-134.97</td>\n",
       "      <td>1552599860</td>\n",
       "      <td>24.14</td>\n",
       "      <td>24.14</td>\n",
       "      <td>8.38</td>\n",
       "      <td>100</td>\n",
       "      <td>100</td>\n",
       "    </tr>\n",
       "    <tr>\n",
       "      <th>2</th>\n",
       "      <td>punta arenas</td>\n",
       "      <td>cl</td>\n",
       "      <td>-53.16</td>\n",
       "      <td>-70.91</td>\n",
       "      <td>1552599912</td>\n",
       "      <td>15.78</td>\n",
       "      <td>16</td>\n",
       "      <td>5.1</td>\n",
       "      <td>0</td>\n",
       "      <td>55</td>\n",
       "    </tr>\n",
       "    <tr>\n",
       "      <th>3</th>\n",
       "      <td>hailey</td>\n",
       "      <td>us</td>\n",
       "      <td>43.52</td>\n",
       "      <td>-114.32</td>\n",
       "      <td>1552599981</td>\n",
       "      <td>-1.57</td>\n",
       "      <td>-1.11</td>\n",
       "      <td>3.1</td>\n",
       "      <td>5</td>\n",
       "      <td>63</td>\n",
       "    </tr>\n",
       "    <tr>\n",
       "      <th>4</th>\n",
       "      <td>sioux lookout</td>\n",
       "      <td>ca</td>\n",
       "      <td>50.1</td>\n",
       "      <td>-91.92</td>\n",
       "      <td>1552597200</td>\n",
       "      <td>-0.59</td>\n",
       "      <td>0</td>\n",
       "      <td>7.7</td>\n",
       "      <td>90</td>\n",
       "      <td>84</td>\n",
       "    </tr>\n",
       "    <tr>\n",
       "      <th>5</th>\n",
       "      <td>lagoa</td>\n",
       "      <td>pt</td>\n",
       "      <td>37.14</td>\n",
       "      <td>-8.45</td>\n",
       "      <td>1552600028</td>\n",
       "      <td>15.41</td>\n",
       "      <td>16.67</td>\n",
       "      <td>3.6</td>\n",
       "      <td>0</td>\n",
       "      <td>58</td>\n",
       "    </tr>\n",
       "    <tr>\n",
       "      <th>6</th>\n",
       "      <td>acapulco</td>\n",
       "      <td>mx</td>\n",
       "      <td>16.86</td>\n",
       "      <td>-99.88</td>\n",
       "      <td>1552596480</td>\n",
       "      <td>29</td>\n",
       "      <td>29</td>\n",
       "      <td>4.1</td>\n",
       "      <td>5</td>\n",
       "      <td>79</td>\n",
       "    </tr>\n",
       "    <tr>\n",
       "      <th>7</th>\n",
       "      <td>trastenik</td>\n",
       "      <td>bg</td>\n",
       "      <td>43.52</td>\n",
       "      <td>24.47</td>\n",
       "      <td>1552597200</td>\n",
       "      <td>5</td>\n",
       "      <td>5</td>\n",
       "      <td>2.1</td>\n",
       "      <td>75</td>\n",
       "      <td>93</td>\n",
       "    </tr>\n",
       "    <tr>\n",
       "      <th>8</th>\n",
       "      <td>vaini</td>\n",
       "      <td>to</td>\n",
       "      <td>15.34</td>\n",
       "      <td>74.49</td>\n",
       "      <td>1552600147</td>\n",
       "      <td>19.36</td>\n",
       "      <td>19.36</td>\n",
       "      <td>0.98</td>\n",
       "      <td>0</td>\n",
       "      <td>71</td>\n",
       "    </tr>\n",
       "    <tr>\n",
       "      <th>9</th>\n",
       "      <td>georgetown</td>\n",
       "      <td>sh</td>\n",
       "      <td>6.8</td>\n",
       "      <td>-58.16</td>\n",
       "      <td>1552597200</td>\n",
       "      <td>29</td>\n",
       "      <td>29</td>\n",
       "      <td>4.1</td>\n",
       "      <td>40</td>\n",
       "      <td>70</td>\n",
       "    </tr>\n",
       "  </tbody>\n",
       "</table>\n",
       "</div>"
      ],
      "text/plain": [
       "            City Country Latitude Longitude    DateTime CurrentTemp MaxTemp  \\\n",
       "0    terre haute      us    39.47    -87.41  1552599906       19.09   21.67   \n",
       "1        rikitea      pf   -23.12   -134.97  1552599860       24.14   24.14   \n",
       "2   punta arenas      cl   -53.16    -70.91  1552599912       15.78      16   \n",
       "3         hailey      us    43.52   -114.32  1552599981       -1.57   -1.11   \n",
       "4  sioux lookout      ca     50.1    -91.92  1552597200       -0.59       0   \n",
       "5          lagoa      pt    37.14     -8.45  1552600028       15.41   16.67   \n",
       "6       acapulco      mx    16.86    -99.88  1552596480          29      29   \n",
       "7      trastenik      bg    43.52     24.47  1552597200           5       5   \n",
       "8          vaini      to    15.34     74.49  1552600147       19.36   19.36   \n",
       "9     georgetown      sh      6.8    -58.16  1552597200          29      29   \n",
       "\n",
       "  WindSpeed Cloudiness Humidity  \n",
       "0      10.8         40       55  \n",
       "1      8.38        100      100  \n",
       "2       5.1          0       55  \n",
       "3       3.1          5       63  \n",
       "4       7.7         90       84  \n",
       "5       3.6          0       58  \n",
       "6       4.1          5       79  \n",
       "7       2.1         75       93  \n",
       "8      0.98          0       71  \n",
       "9       4.1         40       70  "
      ]
     },
     "execution_count": 5,
     "metadata": {},
     "output_type": "execute_result"
    }
   ],
   "source": [
    "weather_df.head(10)"
   ]
  },
  {
   "cell_type": "code",
   "execution_count": null,
   "metadata": {},
   "outputs": [],
   "source": []
  },
  {
   "cell_type": "markdown",
   "metadata": {},
   "source": [
    "### Plotting the Data\n",
    "* Use proper labeling of the plots using plot titles (including date of analysis) and axes labels.\n",
    "* Save the plotted figures as .pngs."
   ]
  },
  {
   "cell_type": "markdown",
   "metadata": {},
   "source": [
    "#### Latitude vs. Temperature Plot"
   ]
  },
  {
   "cell_type": "code",
   "execution_count": 10,
   "metadata": {},
   "outputs": [
    {
     "data": {
      "image/png": "[encoded data removed]",
      "text/plain": [
       "<Figure size 432x288 with 1 Axes>"
      ]
     },
     "metadata": {
      "needs_background": "light"
     },
     "output_type": "display_data"
    }
   ],
   "source": [
    "plt.scatter(weather_df[\"Latitude\"],weather_df[\"CurrentTemp\"],color='lightskyblue', edgecolor='k',\n",
    "            linewidth= 1.5, marker='o', alpha=0.7)\n",
    "plt.scatter(weather_df[\"Latitude\"],weather_df[\"MaxTemp\"],color='red', edgecolor='k',\n",
    "            linewidth= 1.5, marker='o', alpha=0.7)\n",
    "\n",
    "plt.title(\"Comparison of Temperatures across Latitudes\")\n",
    "plt.ylabel(\"Temperature C\")\n",
    "plt.xlabel(\"Latitude of City coordinates\")\n",
    "plt.grid(b=True, which='major', color='lightgray', linestyle='-')\n",
    "\n",
    "leg=plt.legend((\"CurrentTemp\",\"MaxTemp\"))\n",
    "leg.legendHandles[0]._sizes=[50]\n",
    "leg.legendHandles[1]._sizes=[50]\n"
   ]
  },
  {
   "cell_type": "markdown",
   "metadata": {},
   "source": [
    "#### Latitude vs. Humidity Plot"
   ]
  },
  {
   "cell_type": "code",
   "execution_count": 11,
   "metadata": {},
   "outputs": [
    {
     "data": {
      "image/png": "[encoded data removed]",
      "text/plain": [
       "<Figure size 432x288 with 1 Axes>"
      ]
     },
     "metadata": {
      "needs_background": "light"
     },
     "output_type": "display_data"
    }
   ],
   "source": [
    "plt.scatter(weather_df[\"Latitude\"],weather_df[\"Humidity\"],color='red', edgecolor='k',\n",
    "            linewidth= 1.5, marker='o', alpha=0.7)\n",
    "\n",
    "plt.title(\"Comparison of Humiditude across Latitudes\")\n",
    "plt.ylabel(\"% Humidity\")\n",
    "plt.xlabel(\"Latitude of City coordinates\")\n",
    "plt.grid(b=True, which='major', color='lightgray', linestyle='-')\n",
    "\n",
    "leg=plt.legend((\"Humidity\"))\n",
    "leg.legendHandles[0]._sizes=[50]\n"
   ]
  },
  {
   "cell_type": "markdown",
   "metadata": {},
   "source": [
    "#### Latitude vs. Cloudiness Plot"
   ]
  },
  {
   "cell_type": "code",
   "execution_count": 16,
   "metadata": {},
   "outputs": [
    {
     "data": {
      "image/png": "[encoded data removed]",
      "text/plain": [
       "<Figure size 432x288 with 1 Axes>"
      ]
     },
     "metadata": {
      "needs_background": "light"
     },
     "output_type": "display_data"
    }
   ],
   "source": [
    "plt.scatter(weather_df[\"Latitude\"],weather_df[\"Cloudiness\"],color='gray', edgecolor='k',\n",
    "            linewidth= 1.5, marker='o', alpha=0.7)\n",
    "\n",
    "plt.title(\"Comparison of Cloudiness across Latitudes\")\n",
    "plt.ylabel(\"% Cloud Coverage\")\n",
    "plt.xlabel(\"Latitude of City coordinates\")\n",
    "plt.grid(b=True, which='major', color='lightgray', linestyle='-')\n",
    "\n",
    "leg=plt.legend((\"Cloudiness\"))\n",
    "leg.legendHandles[0]._sizes=[50]\n"
   ]
  },
  {
   "cell_type": "markdown",
   "metadata": {},
   "source": [
    "#### Latitude vs. Wind Speed Plot"
   ]
  },
  {
   "cell_type": "code",
   "execution_count": 15,
   "metadata": {},
   "outputs": [
    {
     "data": {
      "image/png": "[encoded data removed]",
      "text/plain": [
       "<Figure size 432x288 with 1 Axes>"
      ]
     },
     "metadata": {
      "needs_background": "light"
     },
     "output_type": "display_data"
    }
   ],
   "source": [
    "plt.scatter(weather_df[\"Latitude\"],weather_df[\"WindSpeed\"],color='yellow', edgecolor='k',\n",
    "            linewidth= 1.5, marker='o', alpha=0.7)\n",
    "\n",
    "plt.title(\"Comparison of wind speed across Latitudes\")\n",
    "plt.ylabel(\"Wind speed (mph)\")\n",
    "plt.xlabel(\"Latitude of City coordinates\")\n",
    "plt.grid(b=True, which='major', color='lightgray', linestyle='-')\n",
    "\n",
    "leg=plt.legend((\"WindSpeed\"))\n",
    "leg.legendHandles[0]._sizes=[50]\n"
   ]
  },
  {
   "cell_type": "raw",
   "metadata": {},
   "source": [
    "Weather across coordinates"
   ]
  },
  {
   "cell_type": "code",
   "execution_count": 14,
   "metadata": {},
   "outputs": [
    {
     "ename": "AttributeError",
     "evalue": "'float' object has no attribute 'sqrt'",
     "output_type": "error",
     "traceback": [
      "\u001b[1;31m---------------------------------------------------------------------------\u001b[0m",
      "\u001b[1;31mAttributeError\u001b[0m                            Traceback (most recent call last)",
      "\u001b[1;32m<ipython-input-14-4e077f294893>\u001b[0m in \u001b[0;36m<module>\u001b[1;34m()\u001b[0m\n\u001b[0;32m      1\u001b[0m plt.scatter(weather_df[\"Latitude\"],weather_df[\"Longitude\"],color='red', edgecolor='k',\n\u001b[1;32m----> 2\u001b[1;33m             linewidth= 1.5, marker='o',s=weather_df[\"MaxTemp\"], alpha=0.7)\n\u001b[0m",
      "\u001b[1;32mC:\\ProgramData\\Anaconda3\\lib\\site-packages\\matplotlib\\pyplot.py\u001b[0m in \u001b[0;36mscatter\u001b[1;34m(x, y, s, c, marker, cmap, norm, vmin, vmax, alpha, linewidths, verts, edgecolors, hold, data, **kwargs)\u001b[0m\n\u001b[0;32m   3473\u001b[0m                          \u001b[0mvmin\u001b[0m\u001b[1;33m=\u001b[0m\u001b[0mvmin\u001b[0m\u001b[1;33m,\u001b[0m \u001b[0mvmax\u001b[0m\u001b[1;33m=\u001b[0m\u001b[0mvmax\u001b[0m\u001b[1;33m,\u001b[0m \u001b[0malpha\u001b[0m\u001b[1;33m=\u001b[0m\u001b[0malpha\u001b[0m\u001b[1;33m,\u001b[0m\u001b[1;33m\u001b[0m\u001b[0m\n\u001b[0;32m   3474\u001b[0m                          \u001b[0mlinewidths\u001b[0m\u001b[1;33m=\u001b[0m\u001b[0mlinewidths\u001b[0m\u001b[1;33m,\u001b[0m \u001b[0mverts\u001b[0m\u001b[1;33m=\u001b[0m\u001b[0mverts\u001b[0m\u001b[1;33m,\u001b[0m\u001b[1;33m\u001b[0m\u001b[0m\n\u001b[1;32m-> 3475\u001b[1;33m                          edgecolors=edgecolors, data=data, **kwargs)\n\u001b[0m\u001b[0;32m   3476\u001b[0m     \u001b[1;32mfinally\u001b[0m\u001b[1;33m:\u001b[0m\u001b[1;33m\u001b[0m\u001b[0m\n\u001b[0;32m   3477\u001b[0m         \u001b[0max\u001b[0m\u001b[1;33m.\u001b[0m\u001b[0m_hold\u001b[0m \u001b[1;33m=\u001b[0m \u001b[0mwashold\u001b[0m\u001b[1;33m\u001b[0m\u001b[0m\n",
      "\u001b[1;32mC:\\ProgramData\\Anaconda3\\lib\\site-packages\\matplotlib\\__init__.py\u001b[0m in \u001b[0;36minner\u001b[1;34m(ax, *args, **kwargs)\u001b[0m\n\u001b[0;32m   1865\u001b[0m                         \u001b[1;34m\"the Matplotlib list!)\"\u001b[0m \u001b[1;33m%\u001b[0m \u001b[1;33m(\u001b[0m\u001b[0mlabel_namer\u001b[0m\u001b[1;33m,\u001b[0m \u001b[0mfunc\u001b[0m\u001b[1;33m.\u001b[0m\u001b[0m__name__\u001b[0m\u001b[1;33m)\u001b[0m\u001b[1;33m,\u001b[0m\u001b[1;33m\u001b[0m\u001b[0m\n\u001b[0;32m   1866\u001b[0m                         RuntimeWarning, stacklevel=2)\n\u001b[1;32m-> 1867\u001b[1;33m             \u001b[1;32mreturn\u001b[0m \u001b[0mfunc\u001b[0m\u001b[1;33m(\u001b[0m\u001b[0max\u001b[0m\u001b[1;33m,\u001b[0m \u001b[1;33m*\u001b[0m\u001b[0margs\u001b[0m\u001b[1;33m,\u001b[0m \u001b[1;33m**\u001b[0m\u001b[0mkwargs\u001b[0m\u001b[1;33m)\u001b[0m\u001b[1;33m\u001b[0m\u001b[0m\n\u001b[0m\u001b[0;32m   1868\u001b[0m \u001b[1;33m\u001b[0m\u001b[0m\n\u001b[0;32m   1869\u001b[0m         inner.__doc__ = _add_data_doc(inner.__doc__,\n",
      "\u001b[1;32mC:\\ProgramData\\Anaconda3\\lib\\site-packages\\matplotlib\\axes\\_axes.py\u001b[0m in \u001b[0;36mscatter\u001b[1;34m(self, x, y, s, c, marker, cmap, norm, vmin, vmax, alpha, linewidths, verts, edgecolors, **kwargs)\u001b[0m\n\u001b[0;32m   4332\u001b[0m                 \u001b[0moffsets\u001b[0m\u001b[1;33m=\u001b[0m\u001b[0moffsets\u001b[0m\u001b[1;33m,\u001b[0m\u001b[1;33m\u001b[0m\u001b[0m\n\u001b[0;32m   4333\u001b[0m                 \u001b[0mtransOffset\u001b[0m\u001b[1;33m=\u001b[0m\u001b[0mkwargs\u001b[0m\u001b[1;33m.\u001b[0m\u001b[0mpop\u001b[0m\u001b[1;33m(\u001b[0m\u001b[1;34m'transform'\u001b[0m\u001b[1;33m,\u001b[0m \u001b[0mself\u001b[0m\u001b[1;33m.\u001b[0m\u001b[0mtransData\u001b[0m\u001b[1;33m)\u001b[0m\u001b[1;33m,\u001b[0m\u001b[1;33m\u001b[0m\u001b[0m\n\u001b[1;32m-> 4334\u001b[1;33m                 \u001b[0malpha\u001b[0m\u001b[1;33m=\u001b[0m\u001b[0malpha\u001b[0m\u001b[1;33m\u001b[0m\u001b[0m\n\u001b[0m\u001b[0;32m   4335\u001b[0m                 )\n\u001b[0;32m   4336\u001b[0m         \u001b[0mcollection\u001b[0m\u001b[1;33m.\u001b[0m\u001b[0mset_transform\u001b[0m\u001b[1;33m(\u001b[0m\u001b[0mmtransforms\u001b[0m\u001b[1;33m.\u001b[0m\u001b[0mIdentityTransform\u001b[0m\u001b[1;33m(\u001b[0m\u001b[1;33m)\u001b[0m\u001b[1;33m)\u001b[0m\u001b[1;33m\u001b[0m\u001b[0m\n",
      "\u001b[1;32mC:\\ProgramData\\Anaconda3\\lib\\site-packages\\matplotlib\\collections.py\u001b[0m in \u001b[0;36m__init__\u001b[1;34m(self, paths, sizes, **kwargs)\u001b[0m\n\u001b[0;32m    927\u001b[0m         \u001b[0mCollection\u001b[0m\u001b[1;33m.\u001b[0m\u001b[0m__init__\u001b[0m\u001b[1;33m(\u001b[0m\u001b[0mself\u001b[0m\u001b[1;33m,\u001b[0m \u001b[1;33m**\u001b[0m\u001b[0mkwargs\u001b[0m\u001b[1;33m)\u001b[0m\u001b[1;33m\u001b[0m\u001b[0m\n\u001b[0;32m    928\u001b[0m         \u001b[0mself\u001b[0m\u001b[1;33m.\u001b[0m\u001b[0mset_paths\u001b[0m\u001b[1;33m(\u001b[0m\u001b[0mpaths\u001b[0m\u001b[1;33m)\u001b[0m\u001b[1;33m\u001b[0m\u001b[0m\n\u001b[1;32m--> 929\u001b[1;33m         \u001b[0mself\u001b[0m\u001b[1;33m.\u001b[0m\u001b[0mset_sizes\u001b[0m\u001b[1;33m(\u001b[0m\u001b[0msizes\u001b[0m\u001b[1;33m)\u001b[0m\u001b[1;33m\u001b[0m\u001b[0m\n\u001b[0m\u001b[0;32m    930\u001b[0m         \u001b[0mself\u001b[0m\u001b[1;33m.\u001b[0m\u001b[0mstale\u001b[0m \u001b[1;33m=\u001b[0m \u001b[1;32mTrue\u001b[0m\u001b[1;33m\u001b[0m\u001b[0m\n\u001b[0;32m    931\u001b[0m \u001b[1;33m\u001b[0m\u001b[0m\n",
      "\u001b[1;32mC:\\ProgramData\\Anaconda3\\lib\\site-packages\\matplotlib\\collections.py\u001b[0m in \u001b[0;36mset_sizes\u001b[1;34m(self, sizes, dpi)\u001b[0m\n\u001b[0;32m    900\u001b[0m             \u001b[0mself\u001b[0m\u001b[1;33m.\u001b[0m\u001b[0m_sizes\u001b[0m \u001b[1;33m=\u001b[0m \u001b[0mnp\u001b[0m\u001b[1;33m.\u001b[0m\u001b[0masarray\u001b[0m\u001b[1;33m(\u001b[0m\u001b[0msizes\u001b[0m\u001b[1;33m)\u001b[0m\u001b[1;33m\u001b[0m\u001b[0m\n\u001b[0;32m    901\u001b[0m             \u001b[0mself\u001b[0m\u001b[1;33m.\u001b[0m\u001b[0m_transforms\u001b[0m \u001b[1;33m=\u001b[0m \u001b[0mnp\u001b[0m\u001b[1;33m.\u001b[0m\u001b[0mzeros\u001b[0m\u001b[1;33m(\u001b[0m\u001b[1;33m(\u001b[0m\u001b[0mlen\u001b[0m\u001b[1;33m(\u001b[0m\u001b[0mself\u001b[0m\u001b[1;33m.\u001b[0m\u001b[0m_sizes\u001b[0m\u001b[1;33m)\u001b[0m\u001b[1;33m,\u001b[0m \u001b[1;36m3\u001b[0m\u001b[1;33m,\u001b[0m \u001b[1;36m3\u001b[0m\u001b[1;33m)\u001b[0m\u001b[1;33m)\u001b[0m\u001b[1;33m\u001b[0m\u001b[0m\n\u001b[1;32m--> 902\u001b[1;33m             \u001b[0mscale\u001b[0m \u001b[1;33m=\u001b[0m \u001b[0mnp\u001b[0m\u001b[1;33m.\u001b[0m\u001b[0msqrt\u001b[0m\u001b[1;33m(\u001b[0m\u001b[0mself\u001b[0m\u001b[1;33m.\u001b[0m\u001b[0m_sizes\u001b[0m\u001b[1;33m)\u001b[0m \u001b[1;33m*\u001b[0m \u001b[0mdpi\u001b[0m \u001b[1;33m/\u001b[0m \u001b[1;36m72.0\u001b[0m \u001b[1;33m*\u001b[0m \u001b[0mself\u001b[0m\u001b[1;33m.\u001b[0m\u001b[0m_factor\u001b[0m\u001b[1;33m\u001b[0m\u001b[0m\n\u001b[0m\u001b[0;32m    903\u001b[0m             \u001b[0mself\u001b[0m\u001b[1;33m.\u001b[0m\u001b[0m_transforms\u001b[0m\u001b[1;33m[\u001b[0m\u001b[1;33m:\u001b[0m\u001b[1;33m,\u001b[0m \u001b[1;36m0\u001b[0m\u001b[1;33m,\u001b[0m \u001b[1;36m0\u001b[0m\u001b[1;33m]\u001b[0m \u001b[1;33m=\u001b[0m \u001b[0mscale\u001b[0m\u001b[1;33m\u001b[0m\u001b[0m\n\u001b[0;32m    904\u001b[0m             \u001b[0mself\u001b[0m\u001b[1;33m.\u001b[0m\u001b[0m_transforms\u001b[0m\u001b[1;33m[\u001b[0m\u001b[1;33m:\u001b[0m\u001b[1;33m,\u001b[0m \u001b[1;36m1\u001b[0m\u001b[1;33m,\u001b[0m \u001b[1;36m1\u001b[0m\u001b[1;33m]\u001b[0m \u001b[1;33m=\u001b[0m \u001b[0mscale\u001b[0m\u001b[1;33m\u001b[0m\u001b[0m\n",
      "\u001b[1;31mAttributeError\u001b[0m: 'float' object has no attribute 'sqrt'"
     ]
    },
    {
     "data": {
      "image/png": "[encoded data removed]",
      "text/plain": [
       "<Figure size 432x288 with 1 Axes>"
      ]
     },
     "metadata": {
      "needs_background": "light"
     },
     "output_type": "display_data"
    }
   ],
   "source": [
    "plt.scatter(weather_df[\"Latitude\"],weather_df[\"Longitude\"],color='red', edgecolor='k',\n",
    "            linewidth= 1.5, marker='o',s=weather_df[\"MaxTemp\"], alpha=0.7)\n",
    "\n"
   ]
  },
  {
   "cell_type": "code",
   "execution_count": null,
   "metadata": {},
   "outputs": [],
   "source": []
  }
 ],
 "metadata": {
  "anaconda-cloud": {},
  "kernelspec": {
   "display_name": "Python 3",
   "language": "python",
   "name": "python3"
  },
  "language_info": {
   "codemirror_mode": {
    "name": "ipython",
    "version": 3
   },
   "file_extension": ".py",
   "mimetype": "text/x-python",
   "name": "python",
   "nbconvert_exporter": "python",
   "pygments_lexer": "ipython3",
   "version": "3.7.0"
  }
 },
 "nbformat": 4,
 "nbformat_minor": 2
}
